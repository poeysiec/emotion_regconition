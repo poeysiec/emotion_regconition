{
 "cells": [
  {
   "cell_type": "code",
   "execution_count": 1,
   "id": "d7750451-848f-4965-b340-1859d96571fa",
   "metadata": {},
   "outputs": [],
   "source": [
    "import pandas as pd\n",
    "import numpy as np\n",
    "\n",
    "from sklearn.model_selection import train_test_split\n",
    "from sklearn.metrics import f1_score,accuracy_score,recall_score,precision_score\n",
    "import torch\n",
    "from torch.utils.data import DataLoader, Dataset\n",
    "from transformers import TrainingArguments\n",
    "from accelerate.state import AcceleratorState, PartialState\n",
    "from transformers import AutoModel, AutoTokenizer, Trainer, TrainingArguments, AutoModelForSequenceClassification\n",
    "from transformers.data.processors.utils import InputFeatures\n",
    "from transformers import DistilBertForSequenceClassification, DistilBertTokenizer, pipeline"
   ]
  },
  {
   "cell_type": "code",
   "execution_count": 32,
   "id": "9d403cf1-a892-4c31-8fd4-2017f358a6b4",
   "metadata": {},
   "outputs": [],
   "source": [
    "train_df = pd.read_csv(\"./datasets/training_set_20231217.csv\")\n",
    "val_df = pd.read_csv(\"./datasets/validation_set_20231217.csv\")\n",
    "test_df = pd.read_csv(\"./datasets/testing_set_20231217.csv\")"
   ]
  },
  {
   "cell_type": "code",
   "execution_count": 33,
   "id": "dae4880e-a730-4eee-8a1d-7ba005385dcb",
   "metadata": {},
   "outputs": [
    {
     "name": "stdout",
     "output_type": "stream",
     "text": [
      "(160000, 3)\n",
      "(20000, 3)\n",
      "(20000, 3)\n"
     ]
    }
   ],
   "source": [
    "print(train_df.shape)\n",
    "print(val_df.shape)\n",
    "print(test_df.shape)"
   ]
  },
  {
   "cell_type": "code",
   "execution_count": 4,
   "id": "537b4035-9374-41e3-bf9b-d88e0178e444",
   "metadata": {},
   "outputs": [],
   "source": [
    "model_name = \"distilbert-base-uncased\"\n",
    "model = AutoModel.from_pretrained(model_name)\n",
    "model.eval()\n",
    "tokenizer = AutoTokenizer.from_pretrained(model_name)"
   ]
  },
  {
   "cell_type": "code",
   "execution_count": 5,
   "id": "2914273a-76ca-4d32-b798-9c7f5a0c744f",
   "metadata": {},
   "outputs": [],
   "source": [
    "device = torch.device('cuda')\n",
    "model = model.to(device)"
   ]
  },
  {
   "cell_type": "code",
   "execution_count": 34,
   "id": "1a35bb0c-ef96-467b-93b0-5685e3acc77d",
   "metadata": {},
   "outputs": [
    {
     "data": {
      "text/plain": [
       "<Axes: xlabel='emotion'>"
      ]
     },
     "execution_count": 34,
     "metadata": {},
     "output_type": "execute_result"
    },
    {
     "data": {
      "image/png": "[encoded data removed]",
      "text/plain": [
       "<Figure size 640x480 with 1 Axes>"
      ]
     },
     "metadata": {},
     "output_type": "display_data"
    }
   ],
   "source": [
    "labels = train_df[\"emotion\"].unique()\n",
    "train_df[\"emotion\"].value_counts().plot(kind=\"bar\")"
   ]
  },
  {
   "cell_type": "code",
   "execution_count": 7,
   "id": "e2c74767-8c07-46ef-9227-b26f77c6d819",
   "metadata": {},
   "outputs": [],
   "source": [
    "class CustomDataset:\n",
    "    def __init__(\n",
    "        self,\n",
    "        name: str,\n",
    "        train:pd.DataFrame,\n",
    "        test: pd.DataFrame,\n",
    "        label_list: list,\n",
    "    ):\n",
    "        self.name = name\n",
    "        self.train = train\n",
    "        self.test = test\n",
    "        self.label_list = label_list"
   ]
  },
  {
   "cell_type": "code",
   "execution_count": 8,
   "id": "f70d5569-bade-4a1b-9ccd-dfa225c0bd54",
   "metadata": {},
   "outputs": [],
   "source": [
    "dataset = CustomDataset(\"emotion\", train_df, test_df, labels)\n",
    "# list(dataset.train[\"text\"][0:10])"
   ]
  },
  {
   "cell_type": "code",
   "execution_count": 10,
   "id": "59771e61-2f57-47b1-948e-d4451fc4618b",
   "metadata": {},
   "outputs": [],
   "source": [
    "class ClassificationDataset(Dataset):\n",
    "    def __init__(self, text, target, model_name, max_len, label_map):\n",
    "        super(ClassificationDataset).__init__()\n",
    "\n",
    "        self.text = text\n",
    "        self.target = target\n",
    "        self.tokenizer_name = model_name\n",
    "        self.tokenizer = AutoTokenizer.from_pretrained(model_name)\n",
    "        self.max_len = max_len\n",
    "        self.label_map = label_map\n",
    "\n",
    "    def __len__(self):\n",
    "        return len(self.text)\n",
    "\n",
    "    def __getitem__(self,item):\n",
    "        text = str(self.text[item])\n",
    "        text = \" \".join(text.split())\n",
    "\n",
    "        inputs = self.tokenizer(\n",
    "          text,\n",
    "          max_length=self.max_len,\n",
    "          padding='max_length',\n",
    "          truncation=True\n",
    "        )      \n",
    "        return InputFeatures(**inputs,label=self.label_map[self.target[item]])"
   ]
  },
  {
   "cell_type": "code",
   "execution_count": 11,
   "id": "c74bb8b4-25ac-447a-a487-d69f3f40ef15",
   "metadata": {},
   "outputs": [
    {
     "name": "stdout",
     "output_type": "stream",
     "text": [
      "{'sadness': 0, 'trust': 1, 'anticipation': 2, 'joy': 3, 'surprise': 4, 'anger': 5, 'disgust': 6, 'fear': 7}\n"
     ]
    }
   ],
   "source": [
    "label_map = { v:index for index, v in enumerate(dataset.label_list) }\n",
    "max_len = 64\n",
    "print(label_map)\n",
    "\n",
    "train_dataset = ClassificationDataset(\n",
    "    dataset.train[\"text\"].to_list(),\n",
    "    dataset.train[\"emotion\"].to_list(),\n",
    "    model_name,\n",
    "    max_len,\n",
    "    label_map\n",
    "  )\n",
    "test_dataset = ClassificationDataset(\n",
    "    dataset.test[\"text\"].to_list(),\n",
    "    dataset.test[\"emotion\"].to_list(),\n",
    "    model_name,\n",
    "    max_len,\n",
    "    label_map\n",
    "  )"
   ]
  },
  {
   "cell_type": "code",
   "execution_count": 12,
   "id": "496daae2-3c63-480d-a923-b9be1eb7c279",
   "metadata": {},
   "outputs": [
    {
     "name": "stdout",
     "output_type": "stream",
     "text": [
      "InputFeatures(input_ids=[101, 3909, 2188, 2007, 2019, 26668, 3493, 6865, 7840, 100, 4067, 2017, 5772, 999, 1026, 1048, 2232, 1028, 1026, 1048, 2232, 1028, 102, 0, 0, 0, 0, 0, 0, 0, 0, 0, 0, 0, 0, 0, 0, 0, 0, 0, 0, 0, 0, 0, 0, 0, 0, 0, 0, 0, 0, 0, 0, 0, 0, 0, 0, 0, 0, 0, 0, 0, 0, 0], attention_mask=[1, 1, 1, 1, 1, 1, 1, 1, 1, 1, 1, 1, 1, 1, 1, 1, 1, 1, 1, 1, 1, 1, 1, 0, 0, 0, 0, 0, 0, 0, 0, 0, 0, 0, 0, 0, 0, 0, 0, 0, 0, 0, 0, 0, 0, 0, 0, 0, 0, 0, 0, 0, 0, 0, 0, 0, 0, 0, 0, 0, 0, 0, 0, 0], token_type_ids=None, label=0)\n"
     ]
    }
   ],
   "source": [
    "# print(next(iter(train_dataset)))"
   ]
  },
  {
   "cell_type": "code",
   "execution_count": 13,
   "id": "7596c9be-9fb9-47d4-890d-768f5a683bc3",
   "metadata": {},
   "outputs": [],
   "source": [
    "def model_init():\n",
    "    return AutoModelForSequenceClassification.from_pretrained(model_name, return_dict=True, num_labels=len(label_map))"
   ]
  },
  {
   "cell_type": "code",
   "execution_count": 14,
   "id": "7f80f6c2-2ffe-444a-a76e-8747b032568b",
   "metadata": {},
   "outputs": [],
   "source": [
    "def compute_metrics(p): \n",
    "    preds = np.argmax(p.predictions, axis=1)\n",
    "    assert len(preds) == len(p.label_ids)\n",
    "    \n",
    "    macro_f1 = f1_score(p.label_ids,preds,average='macro')\n",
    "    acc = accuracy_score(p.label_ids,preds)\n",
    "    \n",
    "    return {       \n",
    "        'macro_f1' : macro_f1,\n",
    "        'accuracy': acc\n",
    "    }"
   ]
  },
  {
   "cell_type": "code",
   "execution_count": 15,
   "id": "e40d433b-5520-4cc0-bfc5-1784770cd1a3",
   "metadata": {},
   "outputs": [],
   "source": [
    "training_args = TrainingArguments( \n",
    "    output_dir= \"./train\",    \n",
    "    adam_epsilon = 1e-8,\n",
    "    learning_rate = 2e-5,\n",
    "    fp16 = False, # enable this when using V100 or T4 GPU\n",
    "    per_device_train_batch_size = 8, # up to 64 on 16GB with max len of 128\n",
    "    per_device_eval_batch_size = 8,\n",
    "    gradient_accumulation_steps = 4, # use this to scale batch size without needing more memory\n",
    "    num_train_epochs= 10,\n",
    "    warmup_ratio = 0,\n",
    "    do_eval = True,\n",
    "    evaluation_strategy = 'epoch',\n",
    "    save_strategy = 'epoch',\n",
    "    load_best_model_at_end = True, # this allows to automatically get the best model at the end based on whatever metric we want\n",
    "    metric_for_best_model = 'macro_f1',\n",
    "    greater_is_better = True,\n",
    "    seed = 25\n",
    "  )"
   ]
  },
  {
   "cell_type": "code",
   "execution_count": 16,
   "id": "0be42962-3735-43e5-9ae2-0d461fa421c2",
   "metadata": {},
   "outputs": [
    {
     "name": "stderr",
     "output_type": "stream",
     "text": [
      "Some weights of DistilBertForSequenceClassification were not initialized from the model checkpoint at distilbert-base-uncased and are newly initialized: ['classifier.weight', 'classifier.bias', 'pre_classifier.bias', 'pre_classifier.weight']\n",
      "You should probably TRAIN this model on a down-stream task to be able to use it for predictions and inference.\n"
     ]
    },
    {
     "data": {
      "text/html": [
       "\n",
       "    <div>\n",
       "      \n",
       "      <progress value='22500' max='22500' style='width:300px; height:20px; vertical-align: middle;'></progress>\n",
       "      [22500/22500 21:33:13, Epoch 10/10]\n",
       "    </div>\n",
       "    <table border=\"1\" class=\"dataframe\">\n",
       "  <thead>\n",
       " <tr style=\"text-align: left;\">\n",
       "      <th>Epoch</th>\n",
       "      <th>Training Loss</th>\n",
       "      <th>Validation Loss</th>\n",
       "      <th>Macro F1</th>\n",
       "      <th>Accuracy</th>\n",
       "    </tr>\n",
       "  </thead>\n",
       "  <tbody>\n",
       "    <tr>\n",
       "      <td>1</td>\n",
       "      <td>1.418900</td>\n",
       "      <td>1.368329</td>\n",
       "      <td>0.495491</td>\n",
       "      <td>0.492750</td>\n",
       "    </tr>\n",
       "    <tr>\n",
       "      <td>2</td>\n",
       "      <td>1.232900</td>\n",
       "      <td>1.324460</td>\n",
       "      <td>0.513259</td>\n",
       "      <td>0.512750</td>\n",
       "    </tr>\n",
       "    <tr>\n",
       "      <td>3</td>\n",
       "      <td>1.057100</td>\n",
       "      <td>1.369539</td>\n",
       "      <td>0.523395</td>\n",
       "      <td>0.522750</td>\n",
       "    </tr>\n",
       "    <tr>\n",
       "      <td>4</td>\n",
       "      <td>0.877800</td>\n",
       "      <td>1.459738</td>\n",
       "      <td>0.508068</td>\n",
       "      <td>0.512750</td>\n",
       "    </tr>\n",
       "    <tr>\n",
       "      <td>5</td>\n",
       "      <td>0.727500</td>\n",
       "      <td>1.589891</td>\n",
       "      <td>0.510103</td>\n",
       "      <td>0.513000</td>\n",
       "    </tr>\n",
       "    <tr>\n",
       "      <td>6</td>\n",
       "      <td>0.568500</td>\n",
       "      <td>1.747370</td>\n",
       "      <td>0.509831</td>\n",
       "      <td>0.510000</td>\n",
       "    </tr>\n",
       "    <tr>\n",
       "      <td>7</td>\n",
       "      <td>0.447200</td>\n",
       "      <td>1.922953</td>\n",
       "      <td>0.505226</td>\n",
       "      <td>0.505750</td>\n",
       "    </tr>\n",
       "    <tr>\n",
       "      <td>8</td>\n",
       "      <td>0.365400</td>\n",
       "      <td>2.074462</td>\n",
       "      <td>0.503074</td>\n",
       "      <td>0.503000</td>\n",
       "    </tr>\n",
       "    <tr>\n",
       "      <td>9</td>\n",
       "      <td>0.301200</td>\n",
       "      <td>2.188653</td>\n",
       "      <td>0.505401</td>\n",
       "      <td>0.505250</td>\n",
       "    </tr>\n",
       "    <tr>\n",
       "      <td>10</td>\n",
       "      <td>0.259700</td>\n",
       "      <td>2.235768</td>\n",
       "      <td>0.504706</td>\n",
       "      <td>0.505250</td>\n",
       "    </tr>\n",
       "  </tbody>\n",
       "</table><p>"
      ],
      "text/plain": [
       "<IPython.core.display.HTML object>"
      ]
     },
     "metadata": {},
     "output_type": "display_data"
    },
    {
     "name": "stderr",
     "output_type": "stream",
     "text": [
      "Checkpoint destination directory ./train\\checkpoint-4500 already exists and is non-empty.Saving will proceed but saved results may be invalid.\n"
     ]
    },
    {
     "data": {
      "text/plain": [
       "TrainOutput(global_step=22500, training_loss=0.7363632517496744, metrics={'train_runtime': 77597.3027, 'train_samples_per_second': 9.279, 'train_steps_per_second': 0.29, 'total_flos': 1.192334155776e+16, 'train_loss': 0.7363632517496744, 'epoch': 10.0})"
      ]
     },
     "execution_count": 16,
     "metadata": {},
     "output_type": "execute_result"
    }
   ],
   "source": [
    "trainer = Trainer(\n",
    "    model = model_init(),\n",
    "    args = training_args,\n",
    "    train_dataset = train_dataset,\n",
    "    eval_dataset=test_dataset,\n",
    "    compute_metrics=compute_metrics,\n",
    ")\n",
    "\n",
    "trainer.train()"
   ]
  },
  {
   "cell_type": "code",
   "execution_count": 17,
   "id": "dbe160a1-fda8-4c3b-a258-f9e87f791a08",
   "metadata": {},
   "outputs": [
    {
     "data": {
      "text/html": [
       "\n",
       "    <div>\n",
       "      \n",
       "      <progress value='500' max='500' style='width:300px; height:20px; vertical-align: middle;'></progress>\n",
       "      [500/500 01:05]\n",
       "    </div>\n",
       "    "
      ],
      "text/plain": [
       "<IPython.core.display.HTML object>"
      ]
     },
     "metadata": {},
     "output_type": "display_data"
    },
    {
     "data": {
      "text/plain": [
       "{'eval_loss': 1.3695387840270996,\n",
       " 'eval_macro_f1': 0.5233953620833803,\n",
       " 'eval_accuracy': 0.52275,\n",
       " 'eval_runtime': 66.0144,\n",
       " 'eval_samples_per_second': 60.593,\n",
       " 'eval_steps_per_second': 7.574,\n",
       " 'epoch': 10.0}"
      ]
     },
     "execution_count": 17,
     "metadata": {},
     "output_type": "execute_result"
    }
   ],
   "source": [
    "trainer.evaluate()"
   ]
  },
  {
   "cell_type": "code",
   "execution_count": 18,
   "id": "7bf6c42d-da0b-4b2e-9ee9-ea6e0f640794",
   "metadata": {},
   "outputs": [
    {
     "name": "stdout",
     "output_type": "stream",
     "text": [
      "{0: 'sadness', 1: 'trust', 2: 'anticipation', 3: 'joy', 4: 'surprise', 5: 'anger', 6: 'disgust', 7: 'fear'}\n"
     ]
    },
    {
     "data": {
      "text/plain": [
       "('output_dir_4\\\\tokenizer_config.json',\n",
       " 'output_dir_4\\\\special_tokens_map.json',\n",
       " 'output_dir_4\\\\vocab.txt',\n",
       " 'output_dir_4\\\\added_tokens.json',\n",
       " 'output_dir_4\\\\tokenizer.json')"
      ]
     },
     "execution_count": 18,
     "metadata": {},
     "output_type": "execute_result"
    }
   ],
   "source": [
    "inv_label_map = { v:k for k, v in label_map.items()}\n",
    "print(inv_label_map)\n",
    "\n",
    "# Assign the label mappings to the model configuration\n",
    "trainer.model.config.label2id = label_map\n",
    "trainer.model.config.id2label = inv_label_map\n",
    "\n",
    "# Save the model and tokenizer\n",
    "trainer.save_model(\"output_dir_4\")\n",
    "train_dataset.tokenizer.save_pretrained(\"output_dir_4\")"
   ]
  },
  {
   "cell_type": "code",
   "execution_count": 19,
   "id": "e5f09ac6-0b46-4923-bea8-23cd43dc41f7",
   "metadata": {},
   "outputs": [
    {
     "name": "stderr",
     "output_type": "stream",
     "text": [
      "C:\\Users\\PoeySie\\AppData\\Local\\Packages\\PythonSoftwareFoundation.Python.3.8_qbz5n2kfra8p0\\LocalCache\\local-packages\\Python38\\site-packages\\transformers\\pipelines\\text_classification.py:105: UserWarning: `return_all_scores` is now deprecated,  if want a similar functionality use `top_k=None` instead of `return_all_scores=True` or `top_k=1` instead of `return_all_scores=False`.\n",
      "  warnings.warn(\n"
     ]
    }
   ],
   "source": [
    "pipe = pipeline(\"sentiment-analysis\", model=\"output_dir_4\", device=0, return_all_scores=True)"
   ]
  },
  {
   "cell_type": "code",
   "execution_count": 26,
   "id": "6b081c82-5425-45bc-b570-45aab27feab6",
   "metadata": {},
   "outputs": [
    {
     "data": {
      "text/plain": [
       "[[{'label': 'sadness', 'score': 0.0200492013245821},\n",
       "  {'label': 'trust', 'score': 0.20493432879447937},\n",
       "  {'label': 'anticipation', 'score': 0.024763282388448715},\n",
       "  {'label': 'joy', 'score': 0.6319476962089539},\n",
       "  {'label': 'surprise', 'score': 0.0268490519374609},\n",
       "  {'label': 'anger', 'score': 0.009824399836361408},\n",
       "  {'label': 'disgust', 'score': 0.007202849257737398},\n",
       "  {'label': 'fear', 'score': 0.0744292214512825}]]"
      ]
     },
     "execution_count": 26,
     "metadata": {},
     "output_type": "execute_result"
    }
   ],
   "source": [
    "# result = pipe(\"I am thankful for my husband, family, furry babies, friends, and faithful readers\")\n",
    "# print(result)\n",
    "# max_score_label = max(result[0], key=lambda x: x['score'])\n",
    "# label = max_score_label['label']\n",
    "# print(label)"
   ]
  },
  {
   "cell_type": "code",
   "execution_count": 22,
   "id": "affd0e57-afec-4abf-a25c-34df7220e782",
   "metadata": {},
   "outputs": [
    {
     "data": {
      "text/plain": [
       "(411972, 2)"
      ]
     },
     "execution_count": 22,
     "metadata": {},
     "output_type": "execute_result"
    }
   ],
   "source": [
    "predict_df = pd.read_csv('submission.csv')\n",
    "predict_df.shape"
   ]
  },
  {
   "cell_type": "code",
   "execution_count": 28,
   "id": "6f5c0f07-18e9-4818-b84d-72cf1254859e",
   "metadata": {},
   "outputs": [],
   "source": [
    "model_path = \"output_dir_4\"  # Access my pre-trained model\n",
    "tokenizer = DistilBertTokenizer.from_pretrained(model_path)\n",
    "model = DistilBertForSequenceClassification.from_pretrained(model_path)\n",
    "device = \"cuda\" if torch.cuda.is_available() else \"cpu\"  # Use GPU if available, else use CPU"
   ]
  },
  {
   "cell_type": "code",
   "execution_count": 29,
   "id": "63bcb73c-1c56-4f1b-867f-9be3895da018",
   "metadata": {},
   "outputs": [
    {
     "name": "stderr",
     "output_type": "stream",
     "text": [
      "Processing batches: 100%|██████████████████████████████████████████████████████| 12875/12875 [1:22:51<00:00,  2.59it/s]\n"
     ]
    }
   ],
   "source": [
    "from tqdm import tqdm\n",
    "\n",
    "def apply_sentiment_pipeline(df, model_path, tokenizer, device=0, batch_size=32):\n",
    "    model.to(device)\n",
    "    model.eval()\n",
    "\n",
    "    predictions = []\n",
    "\n",
    "    # Use tqdm to track the progress of batches\n",
    "    for start in tqdm(range(0, len(df), batch_size), desc=\"Processing batches\"):\n",
    "        end = start + batch_size\n",
    "        batch_df = df.iloc[start:end]\n",
    "        \n",
    "        for _, row in batch_df.iterrows():\n",
    "            text = row['text']\n",
    "            inputs = tokenizer(text, return_tensors=\"pt\", truncation=True, padding=True)\n",
    "            inputs = {key: value.to(device) for key, value in inputs.items()}\n",
    "\n",
    "            with torch.no_grad():\n",
    "                outputs = model(**inputs)\n",
    "                logits = outputs.logits\n",
    "                _, predicted_label = torch.max(logits, 1)\n",
    "\n",
    "            emotion_label = predicted_label.item()\n",
    "            emotion_label = inv_label_map[predicted_label.item()]\n",
    "            predictions.append({'id': row['tweet_id'], 'emotion': emotion_label})\n",
    "\n",
    "    return pd.DataFrame(predictions)\n",
    "\n",
    "# Apply the pipeline to my DataFrame\n",
    "df_predictions_batched = apply_sentiment_pipeline(predict_df, model_path, tokenizer, device)\n",
    "\n",
    "# Save the results to a CSV file\n",
    "df_predictions_batched.to_csv('submission4.csv', index=False)\n"
   ]
  },
  {
   "cell_type": "code",
   "execution_count": 31,
   "id": "4caf908a-a977-4b37-8569-50988afd54f7",
   "metadata": {},
   "outputs": [
    {
     "data": {
      "text/html": [
       "<div>\n",
       "<style scoped>\n",
       "    .dataframe tbody tr th:only-of-type {\n",
       "        vertical-align: middle;\n",
       "    }\n",
       "\n",
       "    .dataframe tbody tr th {\n",
       "        vertical-align: top;\n",
       "    }\n",
       "\n",
       "    .dataframe thead th {\n",
       "        text-align: right;\n",
       "    }\n",
       "</style>\n",
       "<table border=\"1\" class=\"dataframe\">\n",
       "  <thead>\n",
       "    <tr style=\"text-align: right;\">\n",
       "      <th></th>\n",
       "      <th>id</th>\n",
       "      <th>emotion</th>\n",
       "    </tr>\n",
       "  </thead>\n",
       "  <tbody>\n",
       "    <tr>\n",
       "      <th>0</th>\n",
       "      <td>0x28cc61</td>\n",
       "      <td>surprise</td>\n",
       "    </tr>\n",
       "    <tr>\n",
       "      <th>1</th>\n",
       "      <td>0x2db41f</td>\n",
       "      <td>sadness</td>\n",
       "    </tr>\n",
       "    <tr>\n",
       "      <th>2</th>\n",
       "      <td>0x2466f6</td>\n",
       "      <td>surprise</td>\n",
       "    </tr>\n",
       "    <tr>\n",
       "      <th>3</th>\n",
       "      <td>0x23f9e9</td>\n",
       "      <td>sadness</td>\n",
       "    </tr>\n",
       "    <tr>\n",
       "      <th>4</th>\n",
       "      <td>0x1fb4e1</td>\n",
       "      <td>anger</td>\n",
       "    </tr>\n",
       "  </tbody>\n",
       "</table>\n",
       "</div>"
      ],
      "text/plain": [
       "         id   emotion\n",
       "0  0x28cc61  surprise\n",
       "1  0x2db41f   sadness\n",
       "2  0x2466f6  surprise\n",
       "3  0x23f9e9   sadness\n",
       "4  0x1fb4e1     anger"
      ]
     },
     "execution_count": 31,
     "metadata": {},
     "output_type": "execute_result"
    }
   ],
   "source": [
    "df = pd.read_csv('submission4.csv')\n",
    "df.head()"
   ]
  },
  {
   "cell_type": "code",
   "execution_count": null,
   "id": "91a13d48-d2c7-445b-b33f-15d57d043dc5",
   "metadata": {},
   "outputs": [],
   "source": []
  }
 ],
 "metadata": {
  "kernelspec": {
   "display_name": "Python 3 (ipykernel)",
   "language": "python",
   "name": "python3"
  },
  "language_info": {
   "codemirror_mode": {
    "name": "ipython",
    "version": 3
   },
   "file_extension": ".py",
   "mimetype": "text/x-python",
   "name": "python",
   "nbconvert_exporter": "python",
   "pygments_lexer": "ipython3",
   "version": "3.8.10"
  }
 },
 "nbformat": 4,
 "nbformat_minor": 5
}
